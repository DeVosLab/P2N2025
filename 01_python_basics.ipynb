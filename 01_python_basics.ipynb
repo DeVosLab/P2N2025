{
 "cells": [
  {
   "cell_type": "markdown",
   "metadata": {},
   "source": [
    "# Python fundamentals for Bio-Image Analysis\n",
    "\n",
    "## Introduction\n",
    "\n",
    "Welcome to the 1st notebook of the P2N2025 bioimage analysis course! This notebook will teach you the Python fundamentals that you will need for doing bio-image analysis with Python.\n",
    "\n",
    "## Learning Objectives\n",
    "\n",
    "By completing this notebook, you will be able to:\n",
    "\n",
    "1. **Use Google Colab** for running Python code in the cloud\n",
    "2. **Apply basic Python** programming concepts\n",
    "3. **Understand** the Numpy array data structure that is used for representing bio-image data\n",
    "\n",
    "## Course Structure\n",
    "\n",
    "This notebok is divided in 3 chapters:\n",
    "\n",
    "**Chapter 1: Google Colab**\n",
    "- Objectives: Know how to use Google Colab for running Python code in the cloud\n",
    "\n",
    "**Chapter 2: Python Basics**\n",
    "- Objectives: Know the basic Python programming concepts\n",
    "- Key Concepts: Know the basic Python programming concepts, defining and use functions, know how to use loops and conditionals\n",
    "\n",
    "**Chapter 3: Numpy**\n",
    "- Objectives: Know the Numpy array data structure\n",
    "- Key Concepts: Know the basic Numpy array operations"
   ]
  },
  {
   "cell_type": "markdown",
   "metadata": {},
   "source": [
    "## Chapter 1: Google Colab\n",
    "\n",
    "In this chapter, we will learn how to use Google Colab for running Python code in the cloud. \n",
    "\n",
    "**Save a copy to your Google Drive to keep changes**\n",
    "\n",
    "Once you have a notebook open, the first thing to do is to save a copy of it on your Google Drive. This is done by clicking the \"Copy to Drive\" button at the left in the notebook menu.\n",
    "\n",
    "![Copy to Drive](./images/colab_copy.png)\n",
    "\n",
    "**Connect to a Python runtime**\n",
    "\n",
    "Once you have a copy of the notebook on your Google Drive, you can connect it up to a Python runtime. This is done by clicking the \"Connect\" button in the top right corner of the notebook. This will connect the notebook to a Python runtime, which is a virtual environment that contains the Python interpreter and the libraries that you will need to run your code.\n",
    "\n",
    "![Connect to Python runtime](./images/colab_connect.png)\n",
    "\n",
    "**Run the notebook**\n",
    "\n",
    "A Colab notebook is composed of cells, which can contain code, text, or even images. You can run the notebook entirely by clicking the \"Run\" button in the top right corner of the notebook. This will execute all the code from start to finish. However, you can also run it cell by cell, or interrupt it if needed without it losing its state. With state, we mean that the notebook will remember the variables and functions that were defined since the last code block was executed. \n",
    "\n",
    "Here, we will run the notebook cell by cell. Each cell is identified by a number in the top left corner. This keeps track of the order in which the cells were executed. You can run a cell by clicking the \"Run\" button of the cell, or you can run the selected cell by pressing `Shift + Enter`. The output of the cell will be displayed below the cell."
   ]
  },
  {
   "cell_type": "code",
   "execution_count": null,
   "metadata": {},
   "outputs": [],
   "source": [
    "print(\"Hello World\")"
   ]
  },
  {
   "cell_type": "code",
   "execution_count": null,
   "metadata": {},
   "outputs": [],
   "source": [
    "5 + 4"
   ]
  },
  {
   "cell_type": "markdown",
   "metadata": {},
   "source": [
    "## Chapter 2: Python Basics\n",
    "In this chapter, we will cover the basics of Python programming.\n",
    "\n",
    "**Python as a calculator**\n",
    "\n",
    "First, let's see how to use Python as a calculator. *Also note that you can use the `#` symbol to add comments to your code.*"
   ]
  },
  {
   "cell_type": "code",
   "execution_count": null,
   "metadata": {},
   "outputs": [],
   "source": [
    "# Basic arithmetic operations\n",
    "print(5 * 3)  # Multiplication\n",
    "print(5 / 2) # Simple division\n",
    "print(5 // 2) # Integer division\n",
    "print(5 % 2) # Modulo operation"
   ]
  },
  {
   "cell_type": "markdown",
   "metadata": {},
   "source": [
    "**Strings**"
   ]
  },
  {
   "cell_type": "code",
   "execution_count": null,
   "metadata": {},
   "outputs": [],
   "source": [
    "# We define strings using single or double quotes\n",
    "name = \"Alice\"\n",
    "\n",
    "print(\"Hello, my name is \" + name)\n",
    "\n",
    "# We can also use f-strings to insert variables into strings\n",
    "# f-strings are defined using an f before the quotes\n",
    "print(f\"Hello, my name is {name}\")"
   ]
  },
  {
   "cell_type": "markdown",
   "metadata": {},
   "source": [
    "**Variables**\n",
    "In the cell above, we defined a variable called `name` and assigned it the value `\"Alice\"`.\n",
    "\n",
    "In the cell below, let's create some more numeric variables and do some basic arithmetic operations."
   ]
  },
  {
   "cell_type": "code",
   "execution_count": null,
   "metadata": {},
   "outputs": [],
   "source": [
    "a = 5\n",
    "b = 2\n",
    "\n",
    "print(a / b)   # Simple division\n",
    "print(a // b)  # Integer division\n",
    "print(a % b)   # Modulo operation\n",
    "\n",
    "# You can also use variables to store values\n",
    "c = a + b\n",
    "print(c)"
   ]
  },
  {
   "cell_type": "code",
   "execution_count": null,
   "metadata": {},
   "outputs": [],
   "source": [
    "# In a new cell, the values of the variables are retained\n",
    "print(a)\n",
    "print(b)\n",
    "print(c)"
   ]
  },
  {
   "cell_type": "markdown",
   "metadata": {},
   "source": [
    "**f-strings**\n",
    "\n",
    "Using `print` function together with and `f-strings` makes our life easier. In an `f-string`, we can use curly braces `{}` to insert the value of a variable. The created string exists on its own, but we can also print it out\n",
    "\n",
    "```python\n",
    "name = \"Alice\"\n",
    "age = 25\n",
    "\n",
    "print(f\"Hi, my name is {name} and I am {age} years old.\")\n",
    "\n",
    "message = f\"Hi, my name is {name} and I am {age} years old.\"\n",
    "print(message)\n",
    "\n",
    "years_ago = 10\n",
    "print(f\"{years_ago} years ago, I was {age - years_ago} years old.\")\n",
    "\n",
    "```\n",
    "\n",
    "Try it out in the cell below."
   ]
  },
  {
   "cell_type": "code",
   "execution_count": null,
   "metadata": {},
   "outputs": [],
   "source": [
    "# Exercise cell\n"
   ]
  },
  {
   "cell_type": "markdown",
   "metadata": {},
   "source": [
    "**Lists**\n",
    "\n",
    "In Python, we can store multiple values in a list using square brackets."
   ]
  },
  {
   "cell_type": "code",
   "execution_count": null,
   "metadata": {},
   "outputs": [],
   "source": [
    "a = [1, 2, 3, 4, 5]\n",
    "\n",
    "# We can access the elements of the list using the index. Note that in Python, the index starts at 0!\n",
    "print(a[0])\n",
    "print(a[1])\n",
    "print(a[2])\n",
    "print(a[3])\n",
    "print(a[4])\n",
    "\n",
    "# We can also use negative indices to access the elements of the list\n",
    "print(a[-1])\n",
    "print(a[-2])"
   ]
  },
  {
   "cell_type": "markdown",
   "metadata": {},
   "source": [
    "What if we would want to do something for to each element in the list? Let's say we want to add 0.5 to each number. How would you go about it?\n",
    "\n",
    "Let's see what happens if we try it like this:\n"
   ]
  },
  {
   "cell_type": "code",
   "execution_count": null,
   "metadata": {},
   "outputs": [],
   "source": [
    "a = a + 0.5"
   ]
  },
  {
   "cell_type": "markdown",
   "metadata": {},
   "source": [
    "Ah, as you can see, this results in an error. We can't simply add a number to a list. Lists can store any type of object, and Python does not want to make any assumptions about what to do with added number. It will therefore throw an error.\n",
    "\n",
    "Let's do it in another way. We could do it like this:"
   ]
  },
  {
   "cell_type": "code",
   "execution_count": null,
   "metadata": {},
   "outputs": [],
   "source": [
    "a = [1, 2, 3, 4, 5]\n",
    "value = 0.5\n",
    "a[0] = a[0] + value\n",
    "a[1] = a[1] + value\n",
    "a[2] = a[2] + value\n",
    "a[3] = a[3] + value\n",
    "a[4] = a[4] + value\n",
    "\n",
    "print(a)"
   ]
  },
  {
   "cell_type": "markdown",
   "metadata": {},
   "source": [
    "That is a bit of a hassle, right? Luckily, we can use the NumPy library to do this for us. Instead of working with a list, NumPy creates a NumPy array, which is a data structure specifically designed to store numerical data. We can often directly apply mathematical operations to NumPy arrays.\n",
    "\n",
    "Since this is an external library, we must import it first. For simplicity, and as a convention, we will import numpy as np.\n",
    "\n",
    "```python\n",
    "import numpy as np\n",
    "\n",
    "a = np.array([1, 2, 3, 4, 5]) # Note that you could also use a = np.array(a) here.\n",
    "a + 0.5\n",
    "```\n",
    "\n",
    "Try it out in the cell below."
   ]
  },
  {
   "cell_type": "code",
   "execution_count": null,
   "metadata": {},
   "outputs": [],
   "source": [
    "# Exercise cell"
   ]
  },
  {
   "cell_type": "markdown",
   "metadata": {},
   "source": [
    "## Chapter 3: Numpy\n",
    "\n",
    "With numpy, we can create arrays of multiple dimensions.\n",
    "\n",
    "**1D arrays**"
   ]
  },
  {
   "cell_type": "code",
   "execution_count": null,
   "metadata": {},
   "outputs": [],
   "source": [
    "import numpy as np\n",
    "\n",
    "array_1d = np.array([1, 4, 9])\n",
    "print(array_1d)\n",
    "\n",
    "# We can check the shape of the array using the shape attribute\n",
    "print(array_1d.shape)"
   ]
  },
  {
   "cell_type": "markdown",
   "metadata": {},
   "source": [
    "**2D arrays**"
   ]
  },
  {
   "cell_type": "code",
   "execution_count": null,
   "metadata": {},
   "outputs": [],
   "source": [
    "import numpy as np\n",
    "\n",
    "# A 2D array with 2 rows and 3 columns\n",
    "array_2d = np.array([[1, 2, 3], [4, 5, 6]])\n",
    "print(array_2d)\n",
    "print(array_2d.shape)\n",
    "\n",
    "# We can also access the elements of the array using the index\n",
    "print(array_2d[0]) # First row\n",
    "print(array_2d[0,:]) # Also the first row. With the colon, we indicate that we want all columns.\n",
    "print(array_2d[:,0]) # The first column\n",
    "\n",
    "print(array_2d[0, 0]) # The element in the first row and first column\n"
   ]
  },
  {
   "cell_type": "code",
   "execution_count": null,
   "metadata": {},
   "outputs": [],
   "source": [
    "# Exercise cell: \n",
    "\n",
    "# Get the element in the first row and the second column\n",
    "\n",
    "\n",
    "# Get the element in the last row and the last column\n",
    "# (remember how we can conviniently access the last element of a list?)\n"
   ]
  },
  {
   "cell_type": "markdown",
   "metadata": {},
   "source": [
    "Perform mathematical operations on numpy arrays."
   ]
  },
  {
   "cell_type": "code",
   "execution_count": null,
   "metadata": {},
   "outputs": [],
   "source": [
    "# The mean of an array\n",
    "print(np.mean(array_1d)) # Numpy has mean() function\n",
    "print(array_2d.mean()) # We could also use the mean() method of the array"
   ]
  },
  {
   "cell_type": "code",
   "execution_count": null,
   "metadata": {},
   "outputs": [],
   "source": [
    "# Minimum of an array\n",
    "min_value = np.min(array_1d)\n",
    "print(min_value)\n",
    "\n",
    "# Minimum of each column\n",
    "min_value_rows = np.min(array_2d, axis=0) # axis=0 means that we will perform the function on the first axis, which is the rows\n",
    "print(min_value_rows)"
   ]
  },
  {
   "cell_type": "markdown",
   "metadata": {},
   "source": [
    "The way we obtained the minimum of each row above, is what we call a `minimum projection` along the rows.\n",
    "\n",
    "As an exercise, create a `maximum projection` along the columns."
   ]
  },
  {
   "cell_type": "code",
   "execution_count": null,
   "metadata": {},
   "outputs": [],
   "source": [
    "# Exercise cell"
   ]
  },
  {
   "cell_type": "markdown",
   "metadata": {},
   "source": [
    "In the cell below, create two 2D arrays with the same shape and add them together."
   ]
  },
  {
   "cell_type": "code",
   "execution_count": null,
   "metadata": {},
   "outputs": [],
   "source": [
    "# Exercise cell"
   ]
  },
  {
   "cell_type": "markdown",
   "metadata": {},
   "source": [
    "**3D**\n",
    "\n",
    "Exercise: Create a 3D array with a height of 2 (#rows), width of 3 (#columns), and depth of 4 (#slices)."
   ]
  },
  {
   "cell_type": "code",
   "execution_count": null,
   "metadata": {},
   "outputs": [],
   "source": [
    "# Exercise cell"
   ]
  },
  {
   "cell_type": "markdown",
   "metadata": {},
   "source": [
    "**Quick array creation**\n",
    "\n",
    "Numpy has some functions to quickly create new arrays with certain values.\n",
    "\n",
    "```python\n",
    "zeros = np.zeros((2, 3))\n",
    "zeros\n",
    "\n",
    "ones = np.ones((2, 3))\n",
    "ones\n",
    "\n",
    "random = np.random.rand(2, 3) # Random values between 0 and 1\n",
    "random\n",
    "```\n",
    "\n",
    "Try it out here below."
   ]
  },
  {
   "cell_type": "code",
   "execution_count": null,
   "metadata": {},
   "outputs": [],
   "source": [
    "# Exercise cell:\n"
   ]
  },
  {
   "cell_type": "markdown",
   "metadata": {},
   "source": [
    "\n",
    "**Indexing using boolean arrays**\n",
    "\n",
    "We can for example find all values above 0.5 in the random array and store it in a boolean array. This boolean array stores binary values that indicate which values were above our threshold as 1 and which values were below our threshold as 0."
   ]
  },
  {
   "cell_type": "code",
   "execution_count": null,
   "metadata": {},
   "outputs": [],
   "source": [
    "random = np.random.rand(2, 3)\n",
    "mask = random > 0.5\n",
    "print(mask)"
   ]
  },
  {
   "cell_type": "markdown",
   "metadata": {},
   "source": [
    "\n",
    "Below, we create two random arrays, `random_a` and `random_b`. We can then create a boolean array that indicates which values in `random_a` are greater than the corresponding value in `random_b`. \n",
    "\n",
    "We can then use this boolean array to index the original array.\n"
   ]
  },
  {
   "cell_type": "code",
   "execution_count": null,
   "metadata": {},
   "outputs": [],
   "source": [
    "random_a = np.random.rand(2, 3)\n",
    "random_b = np.random.rand(2, 3)\n",
    "mask = random_a > random_b\n",
    "\n",
    "print('Values in random_a that are greater than random_b:')\n",
    "print(random_a[mask])\n",
    "print('Corresponding values in random_b:')\n",
    "print(random_b[mask])"
   ]
  }
 ],
 "metadata": {
  "language_info": {
   "name": "python"
  }
 },
 "nbformat": 4,
 "nbformat_minor": 2
}
