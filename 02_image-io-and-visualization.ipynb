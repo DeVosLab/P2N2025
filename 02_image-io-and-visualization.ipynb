{
  "cells": [
    {
      "cell_type": "markdown",
      "metadata": {
        "vscode": {
          "languageId": "raw"
        }
      },
      "source": [
        "# Fundamentals of Bioimage Analysis: I/O and Processing\n",
        "\n",
        "## Course Introduction\n",
        "\n",
        "Welcome to the foundational notebook of the P2N2025 bioimage analysis course! This notebook will teach you the essential skills for working with microscopy data using Python and open-source tools.\n",
        "\n",
        "## Learning Objectives\n",
        "\n",
        "By completing this notebook, you will be able to:\n",
        "\n",
        "1. **Read and write** microscopy files in various formats (CZI, OME-TIFF, etc.)\n",
        "2. **Navigate and understand** image metadata including pixel sizes and channel information\n",
        "3. **Visualize** multidimensional microscopy data using matplotlib and napari\n",
        "\n",
        "## Course Structure\n",
        "\n",
        "This notebook is divided into three main chapters:\n",
        "\n",
        "### Chapter 1: Reading and Writing Files\n",
        "- **Objective**: Master the fundamentals of microscopy file I/O\n",
        "- **Key Skills**: Using bioio for unified file access, understanding metadata, handling different file formats\n",
        "- **Take-Home**: Bioio provides a standardized way to access diverse microscopy formats\n",
        "\n",
        "### Chapter 2: Visualization\n",
        "- **Objective**: Learn effective strategies for visualizing multidimensional data\n",
        "- **Key Skills**: 2D plotting with matplotlib, 3D visualization with napari, creating publication-quality figures\n",
        "- **Take-Home**: Proper visualization is essential for understanding your data and debugging analysis pipelines\n",
        "\n",
        "## Why This Matters\n",
        "\n",
        "Modern microscopy generates complex, multidimensional datasets that require computational tools to extract meaningful information. This notebook teaches you the fundamental skills to start with reading and writing files, and basic visualization.\n",
        "\n",
        "**Let's begin!**\n"
      ]
    },
    {
      "cell_type": "code",
      "execution_count": 1,
      "metadata": {
        "colab": {
          "base_uri": "https://localhost:8080/"
        },
        "id": "KpkHqHDgHEjo",
        "outputId": "22c7b33c-ad98-440b-efa4-fd328e1d98f8"
      },
      "outputs": [
        {
          "name": "stdout",
          "output_type": "stream",
          "text": [
            "/usr/local/bin/python\n"
          ]
        }
      ],
      "source": [
        "!which python"
      ]
    },
    {
      "cell_type": "markdown",
      "metadata": {},
      "source": [
        "# Library installations on Google Colab\n",
        "When using Google Colab, we have to make sure that all the libraries that we will use are available in its runtime environment.\n",
        "Unlike local Python environments that we can reuse after a session, Google Colab will reset the environment after a certain amount of time.\n",
        "Therefore, each time we start a new Google Colab session, we have to install the libraries in the runtime environment. Luckily, Google Colab already comes with many libraries pre-installed. So, we only have to install the libraries that are not pre-installed.\n",
        "\n",
        "The following code cell will install all required libraries for this notebook."
      ]
    },
    {
      "cell_type": "code",
      "execution_count": null,
      "metadata": {},
      "outputs": [],
      "source": [
        "# Pre-installed libraries (will be skipped automatically)\n",
        "!pip install numpy\n",
        "!pip install matplotlib\n",
        "\n",
        "# To install\n",
        "!pip install bioio==3.0.0 bioio-czi==2.4.0 bioio-ome-tiff==1.4.0\n",
        "!pip install \"napari[pyqt6]\""
      ]
    },
    {
      "cell_type": "markdown",
      "metadata": {
        "id": "PLgynCeYip1P"
      },
      "source": [
        "# Chapter 1: Reading and Writing Files\n",
        "In this chapter, we will learn how to read and write microscopy files in various formats. \n",
        "Hereto, we will use the convenient `bioio` library that will handle a lot of the heavy lifting for us. \n",
        "It provides a unified interface for reading and writing microscopy files in various formats.\n",
        "\n",
        "## 1.1. Reading Files\n",
        "\n",
        "**Importing the `bioio` library**\n",
        "\n",
        "We will start by reading files using the `bioio` library. The following code cell will import all the elements from `bioio` that we will use to read files in this notebook."
      ]
    },
    {
      "cell_type": "code",
      "execution_count": 1,
      "metadata": {
        "id": "KetNqV0BJGtw"
      },
      "outputs": [],
      "source": [
        "# Bioio imports\n",
        "from bioio import BioImage\n",
        "from bioio_ome_tiff.writers import OmeTiffWriter\n",
        "import bioio_base as biob"
      ]
    },
    {
      "cell_type": "markdown",
      "metadata": {},
      "source": [
        "**Reading a file**\n",
        "\n",
        "We can now define a variable containing the path to the image file that we want to read. In this example, we have a .czi file, which is a file format used by Zeiss microscopes.\n",
        "\n",
        "```python\n",
        "image_path = \"/content/sample_data/hela_prolongdiamond_dapi_tubulin-af488_mitochondria-af568_40x.czi\"\n",
        "```\n",
        "\n",
        "We can then use the `BioImage` class to read the file. \n",
        "\n",
        "```python\n",
        "img = BioImage(image_path)\n",
        "```\n",
        "A microscopy image file can contain multiple acquisitions, called scenes in `bioio`. We can specify which scene we want to read, but by default, the first scene will be read.\n",
        "\n",
        "We can then print the id of the current scene using the `current_scene` attribute.\n",
        "\n",
        "```python\n",
        "print(img.current_scene)\n",
        "```\n",
        "\n",
        "We can also get a list of all the scenes in the file using the `scenes` attribute.\n",
        "\n",
        "```python\n",
        "print(img.scenes)\n",
        "```"
      ]
    },
    {
      "cell_type": "code",
      "execution_count": 2,
      "metadata": {
        "colab": {
          "base_uri": "https://localhost:8080/"
        },
        "id": "Wt470ujIHk6F",
        "outputId": "3c4ad2e3-9f7e-4a7e-c687-b1b386b4f589"
      },
      "outputs": [
        {
          "name": "stdout",
          "output_type": "stream",
          "text": [
            "0\n",
            "('0', '1', '2', '3')\n"
          ]
        }
      ],
      "source": [
        "# Define the path to the image file\n",
        "image_path = \"/content/sample_data/hela_prolongdiamond_dapi_tubulin-af488_mitochondria-af568_40x.czi\"\n",
        "\n",
        "# Define a BioImage object\n",
        "img = BioImage(image_path)  # selects the first scene found\n",
        "\n",
        "# Get the id of the current operating scene\n",
        "print(f'Current scene: {img.current_scene}')\n",
        "\n",
        "# Get a list valid scene ids\n",
        "print(f'Scenes: {img.scenes}')"
      ]
    },
    {
      "cell_type": "markdown",
      "metadata": {},
      "source": [
        "**Changing the scene**\n",
        "\n",
        "To read another acquisition, a.k.a. scene, we can use the `set_scene` method.\n",
        "\n",
        "This can be done by specifying the scene id, a string that is the name of the scene.\n",
        "```python\n",
        "img.set_scene(\"1\")\n",
        "```\n",
        "\n",
        "We can also use the `set_scene` method with the scene index.\n",
        "\n",
        "```python\n",
        "img.set_scene(1)\n",
        "```"
      ]
    },
    {
      "cell_type": "code",
      "execution_count": 3,
      "metadata": {
        "id": "fZPViSjxIo3o"
      },
      "outputs": [],
      "source": [
        "# Change scene using name\n",
        "img.set_scene(\"1\")\n",
        "# Or by scene index\n",
        "img.set_scene(1)"
      ]
    },
    {
      "cell_type": "markdown",
      "metadata": {},
      "source": [
        "**Accessing image metadata**\n",
        "\n",
        "The `BioImage` class provides a lot of metadata about the image. We can access it as attributes of our `img` object."
      ]
    },
    {
      "cell_type": "code",
      "execution_count": 4,
      "metadata": {
        "colab": {
          "base_uri": "https://localhost:8080/"
        },
        "id": "GbOhbHeoiL6_",
        "outputId": "8987d017-4ce2-4190-e665-5125e2f7df73"
      },
      "outputs": [
        {
          "name": "stdout",
          "output_type": "stream",
          "text": [
            "<Dimensions [T: 1, C: 3, Z: 14, Y: 512, X: 512]>\n",
            "TCZYX\n",
            "512\n",
            "(1, 3, 14, 512, 512)\n"
          ]
        }
      ],
      "source": [
        "# Access all the metadata\n",
        "img.metadata  # returns the metadata object for this file format (XML, JSON, etc.)"
      ]
    },
    {
      "cell_type": "code",
      "execution_count": null,
      "metadata": {},
      "outputs": [],
      "source": [
        "print(img.ome_metadata) # returns the OME-XML metadata as a string"
      ]
    },
    {
      "cell_type": "code",
      "execution_count": null,
      "metadata": {},
      "outputs": [],
      "source": [
        "# Access specific metadata\n",
        "print(f'Dimensions object: {img.dims}')  # returns a Dimensions object\n",
        "print(f'Dimension order: {img.dims.order}')  # returns string \"TCZYX\"\n",
        "print(f'Size of X dimension: {img.dims.X}')  # returns size of X dimension\n",
        "print(f'Shape: {img.shape}')  # returns tuple of dimension sizes in TCZYX order\n",
        "\n",
        "print(f'Channel names: {img.channel_names}')  # returns a list of string channel names found in the metadata\n",
        "print(f'Z dimension pixel size: {img.physical_pixel_sizes.Z}')  # returns the Z dimension pixel size as found in the metadata\n",
        "print(f'Y dimension pixel size: {img.physical_pixel_sizes.Y}')  # returns the Y dimension pixel size as found in the metadata\n",
        "print(f'X dimension pixel size: {img.physical_pixel_sizes.X}')  # returns the X dimension pixel size as found in the metadata"
      ]
    },
    {
      "cell_type": "markdown",
      "metadata": {},
      "source": [
        "## 1.2. Writing Files\n",
        "\n",
        "We can also write files using the `bioio` library.\n",
        "\n",
        "Hereto, we first define the output path, i.e. the path where we want to write the file to.\n",
        "```python\n",
        "output_path=\"/content/images/output.ome.tiff\"\n",
        "```\n",
        "\n",
        "We can then use the `write_file` method to write the file.\n",
        "\n",
        "```python\n",
        "img.write_file(\"output.ome.tiff\")\n",
        "```\n",
        "\n",
        "In this case, we are writing the image into an OME-TIFF file that will use the same metadata as the original file.\n"
      ]
    },
    {
      "cell_type": "code",
      "execution_count": null,
      "metadata": {},
      "outputs": [],
      "source": [
        "# Define the output path\n",
        "output_path=\"/content/images/output.ome.tiff\"\n",
        "\n",
        "# Write the file\n",
        "img.write_file(output_path)"
      ]
    },
    {
      "cell_type": "markdown",
      "metadata": {},
      "source": [
        "**Creating a new image file from scratch**\n",
        "\n",
        "In most cases, we are not just opening an existing file and saving it again. \n",
        "Often, we have data stored in memory, like a numpy array, that we want to save as a file.\n",
        "To store metadata together with the raw data, we can use the `bioio` library to create an image file from scratch.\n",
        "\n",
        "As an example, we will extract the raw data from our image as a numpy array."
      ]
    },
    {
      "cell_type": "code",
      "execution_count": 9,
      "metadata": {
        "id": "PvtIWX8FiUL6"
      },
      "outputs": [],
      "source": [
        "# Get the raw data as a numpy array\n",
        "data = img.get_image_data(\"CZYX\", T=0)  # returns 4D CZYX numpy array\n",
        "print(f'Data type: {type(data)}')\n",
        "print(f'Numpy array shape: {data.shape}')"
      ]
    },
    {
      "cell_type": "markdown",
      "metadata": {},
      "source": [
        "We can now write the data to a new file. Hereto, we will import the `OmeTiffWriter` class from the `bioio` library that allows us to create a new OME-TIFF file from scratch.\n",
        "\n",
        "We will also define the metadata that we want to stored in the new file. To do this in a standardized way, we will also import `bioio_base` that contains the base classes for the metadata. For convenience, we call it `biob`."
      ]
    },
    {
      "cell_type": "code",
      "execution_count": null,
      "metadata": {},
      "outputs": [],
      "source": [
        "# Import the OmeTiffWriter class\n",
        "from bioio import OmeTiffWriter\n",
        "import bioio_base as biob\n",
        "\n",
        "# Get the raw data as a numpy array\n",
        "data = img.get_image_data(\"CZYX\", T=0)  # returns 4D CZYX numpy array\n",
        "print(f'Numpy array shape: {data.shape}')\n",
        "\n",
        "# Define the output path\n",
        "output_path=\"/content/images/output.ome.tiff\"\n",
        "\n",
        "# Define the metadata\n",
        "write_dim_order = \"CZYX\"  # required, the dimension order to write the data in\n",
        "channel_names = ['Mitochondria', 'Tubulin', 'DAPI']\n",
        "channel_colors = [(255,0,255), (0,255,0), (0,255,255)]  # Magenta/Green/Cyam, colors in RGB format\n",
        "pixel_size = biob.types.PhysicalPixelSizes(\n",
        "    img.physical_pixel_sizes.Z,\n",
        "    img.physical_pixel_sizes.Y,\n",
        "    img.physical_pixel_sizes.X\n",
        "    )  # optional, Z, Y, X in microns\n",
        "\n",
        "# Write the file\n",
        "OmeTiffWriter.save(\n",
        "        data,\n",
        "        output_path,\n",
        "        write_dim_order,\n",
        "        channel_names=channel_names,\n",
        "        channel_colors=channel_colors,\n",
        "        physical_pixel_sizes=pixel_size,\n",
        "    )"
      ]
    },
    {
      "cell_type": "markdown",
      "metadata": {},
      "source": [
        "**Reading the stored file**\n",
        "\n",
        "We can now read the file we just wrote using the `BioImage` class."
      ]
    },
    {
      "cell_type": "code",
      "execution_count": null,
      "metadata": {},
      "outputs": [],
      "source": [
        "img = BioImage(output_path)\n",
        "print(img.ome_metadata)"
      ]
    },
    {
      "cell_type": "markdown",
      "metadata": {
        "id": "vuops1s_izQf"
      },
      "source": [
        "# Chapter2: Visualisation\n",
        "Now that we know how to read and write files, we can start visualising the data. In this chapter, we will explore various ways to visualize the data, from simple 2D images to 3D volumes.\n",
        "\n",
        "For this, we will use a couple of new libraries:\n",
        "- matplotlib: for simple 2D and 3D image visualisation and data plotting\n",
        "- napari: for more advanced visualisation of images, volumes and time-series\n",
        "\n",
        "## 2.1. Matplotlib for 2D image visualisation and data plotting\n",
        "\n",
        "**2D image visualisation**\n",
        "\n",
        "First, let's visualize the images in 2D using matplotlib.\n",
        "\n",
        "\n"
      ]
    },
    {
      "cell_type": "code",
      "execution_count": 10,
      "metadata": {
        "id": "LMkFYwVbi3vF"
      },
      "outputs": [],
      "source": [
        "# Define the image path\n",
        "image_path = \"/content/sample_data/hela_prolongdiamond_dapi_tubulin-af488_mitochondria-af568_40x.czi\"\n",
        "\n",
        "# Define a BioImage object\n",
        "img = BioImage(image_path) \n",
        "print(f'Image shape: {img.shape}')\n",
        "print(f'Image dimensions: {img.dims.order}')\n",
        "print(f'Image physical pixel sizes: {img.physical_pixel_sizes}')\n",
        "print(f'Image channel names: {img.channel_names}')\n",
        "\n",
        "# Create variables from metadata\n",
        "channel_names = img.channel_names\n",
        "image_scale = [img.physical_pixel_sizes.Z, img.physical_pixel_sizes.Y, img.physical_pixel_sizes.X]\n",
        "\n",
        "# Define colormaps to use for each channel\n",
        "color_map_list = ['magenta', 'green', 'cyan']\n",
        "\n",
        "# First, let use visualize the images in 2D using matplotlib\n",
        "# The images are multi-dimensional. We will plot each channel in a separate subplot. \n",
        "# For each channel we will use a maximum intensity projection (MIP).\n",
        "import numpy as np\n",
        "import matplotlib.pyplot as plt\n",
        "\n",
        "# Make sure matplotlib is displayed inline in the notebook\n",
        "%matplotlib inline \n",
        "\n",
        "# Get the raw data as a numpy array\n",
        "data = img.get_image_data(\"CZYX\", T=0) # returns 4D CZYX numpy array\n",
        "data_mip = np.max(data, axis=1) # returns 3D CYX numpy array (C=3, Y=1024, X=1024) containing MIP images.\n",
        "\n",
        "# Create a figure with 3 subplots, 1 for each channel, arranged horizontally\n",
        "fig, axes = plt.subplots(1, 3, figsize=(15, 5))\n",
        "for i, channel in enumerate(channel_names):\n",
        "    data_mip_channel = data_mip[i,:,:] # Get the MIP image for the i-th channel\n",
        "    cmap = plt.get_cmap(color_map_list[i]) # Get the colormap for the i-th channel\n",
        "    axes[i].imshow(data_mip_channel, cmap=cmap)\n",
        "    axes[i].set_title(channel) # Set the title of the subplot to the channel name\n",
        "    axes[i].axis('off') # Remove the axis ticks\n",
        "plt.show()"
      ]
    },
    {
      "cell_type": "markdown",
      "metadata": {},
      "source": [
        "**Data plotting**\n",
        "\n",
        "Besides visualizing 2D images, we can also use matplotlib to plot data.\n",
        "\n",
        "For example, we can plot the intensity distribution of the different channels.\n"
      ]
    },
    {
      "cell_type": "code",
      "execution_count": null,
      "metadata": {},
      "outputs": [],
      "source": [
        "# Create a plot with the histograms of the different channels\n",
        "fig, ax = plt.subplots(1, 1, figsize=(15, 5))\n",
        "for i, channel in enumerate(channel_names):\n",
        "    data_mip_channel = data_mip[i,:,:] # Get the MIP image for the i-th channel\n",
        "    cmap = plt.get_cmap(color_map_list[i]) # Get the colormap for the i-th channel\n",
        "\n",
        "    # Plot the histogram of the channel\n",
        "    ax.hist(\n",
        "        data_mip_channel.flatten(), # Flatten the image to a 1D array\n",
        "        bins=100, \n",
        "        color=cmap, \n",
        "        alpha=0.5\n",
        "        )\n",
        "    ax.set_title(channel) # Set the title of the subplot to the channel name\n",
        "    ax.set_xlabel('Intensity') # Set the x-axis label to 'Intensity'\n",
        "    ax.set_ylabel('Frequency') # Set the y-axis label to 'Frequency'\n",
        "plt.show()"
      ]
    },
    {
      "cell_type": "markdown",
      "metadata": {},
      "source": [
        "## 2.2. Visualzing volumes with Napari\n",
        "\n",
        "Napari is a powerful tool for visualizing images, volumes and time-series. Here, we will use it to visuale the 3D volume of the image."
      ]
    },
    {
      "cell_type": "code",
      "execution_count": null,
      "metadata": {},
      "outputs": [],
      "source": [
        "import napari\n",
        "from napari.utils import nbscreenshot"
      ]
    },
    {
      "cell_type": "code",
      "execution_count": null,
      "metadata": {
        "colab": {
          "base_uri": "https://localhost:8080/"
        },
        "id": "l_-1nOENjCZl",
        "outputId": "80facd76-ccfa-4616-958c-f6b77182164e"
      },
      "outputs": [
        {
          "name": "stderr",
          "output_type": "stream",
          "text": [
            "WARNING: From 6.5.0, xcb-cursor0 or libxcb-cursor0 is needed to load the Qt xcb platform plugin.\n",
            "WARNING:vispy:From 6.5.0, xcb-cursor0 or libxcb-cursor0 is needed to load the Qt xcb platform plugin.\n",
            "WARNING: Could not load the Qt platform plugin \"xcb\" in \"\" even though it was found.\n",
            "WARNING:vispy:Could not load the Qt platform plugin \"xcb\" in \"\" even though it was found.\n",
            "WARNING: This application failed to start because no Qt platform plugin could be initialized. Reinstalling the application may fix this problem.\n",
            "\n",
            "Available platform plugins are: minimalegl, wayland-egl, eglfs, xcb, linuxfb, wayland, offscreen, vkkhrdisplay, vnc, minimal.\n",
            "\n",
            "WARNING:vispy:This application failed to start because no Qt platform plugin could be initialized. Reinstalling the application may fix this problem.\n",
            "\n",
            "Available platform plugins are: minimalegl, wayland-egl, eglfs, xcb, linuxfb, wayland, offscreen, vkkhrdisplay, vnc, minimal.\n",
            "\n"
          ]
        }
      ],
      "source": [
        "# Create a napari Viewer\n",
        "viewer = napari.Viewer(ndisplay=3) # use ndisplay=2 for 2D\n",
        "\n",
        "for i, channel in enumerate(channel_names):\n",
        "    viewer.add_image(\n",
        "        img.get_image_data(\"ZYX\", T=0, C=i),\n",
        "        contrast_limits=[0, 4095],\n",
        "        name=channel_names[i],\n",
        "        scale=image_scale,\n",
        "        colormap=color_map_list[i],\n",
        "        blending='additive'\n",
        "        )\n",
        "\n",
        "# Rotate the image in 3D\n",
        "viewer.camera.angles = (0, 15, 35)\n",
        "\n",
        "nbscreenshot(viewer, canvas_only=True) # canvas_only=True removes the napari GUI"
      ]
    }
  ],
  "metadata": {
    "colab": {
      "provenance": []
    },
    "kernelspec": {
      "display_name": "Python 3",
      "name": "python3"
    },
    "language_info": {
      "name": "python"
    }
  },
  "nbformat": 4,
  "nbformat_minor": 0
}
